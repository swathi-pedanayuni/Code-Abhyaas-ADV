{
 "cells": [
  {
   "cell_type": "code",
   "execution_count": 1,
   "id": "6fe93cec",
   "metadata": {},
   "outputs": [
    {
     "name": "stdout",
     "output_type": "stream",
     "text": [
      "[2, 4]\n"
     ]
    }
   ],
   "source": [
    "## 2 sum \n",
    "\n",
    "arr=[2,7,11,14,4]\n",
    "target=15\n",
    "\n",
    "#using two pointer approach\n",
    "left=0\n",
    "right=len(arr)-1\n",
    "\n",
    "while left<right:\n",
    "    current_sum=arr[left]+arr[right]\n",
    "    \n",
    "    if current_sum==target:\n",
    "        result=[left,right]\n",
    "        break\n",
    "    elif current_sum<target:\n",
    "        left+=1\n",
    "    else:\n",
    "        right-=1\n",
    "\n",
    "else:\n",
    "    result=[]\n",
    "\n",
    "print(result)"
   ]
  },
  {
   "cell_type": "code",
   "execution_count": null,
   "id": "52064d75",
   "metadata": {},
   "outputs": [],
   "source": []
  }
 ],
 "metadata": {
  "kernelspec": {
   "display_name": "Python 3 (ipykernel)",
   "language": "python",
   "name": "python3"
  },
  "language_info": {
   "codemirror_mode": {
    "name": "ipython",
    "version": 3
   },
   "file_extension": ".py",
   "mimetype": "text/x-python",
   "name": "python",
   "nbconvert_exporter": "python",
   "pygments_lexer": "ipython3",
   "version": "3.9.13"
  }
 },
 "nbformat": 4,
 "nbformat_minor": 5
}

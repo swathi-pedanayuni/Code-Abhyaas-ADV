{
 "cells": [
  {
   "cell_type": "code",
   "execution_count": 6,
   "id": "d892db42",
   "metadata": {},
   "outputs": [
    {
     "name": "stdout",
     "output_type": "stream",
     "text": [
      "{1: 3, 2: 3, 3: 3, 5: 1, 4: 2}\n",
      " min element is : 5\n",
      "frequency of element is:1\n"
     ]
    }
   ],
   "source": [
    "#find min frequency element in arr\n",
    "arr=[1,1,1,2,2,2,3,5,3,3,4,4]\n",
    "\n",
    "dict={}\n",
    "\n",
    "for i in arr:\n",
    "    if i  in dict:\n",
    "        dict[i]+=1\n",
    "    else:\n",
    "        dict[i]=1\n",
    "\n",
    "print(dict)\n",
    "\n",
    "min=3\n",
    "min_ele=0\n",
    "for key,value in dict.items():\n",
    "    if value<min:\n",
    "        min=value\n",
    "        min_ele=key\n",
    "print(f\" min element is : {min_ele}\")\n",
    "print(f\"frequency of element is:{ min}\")"
   ]
  },
  {
   "cell_type": "code",
   "execution_count": null,
   "id": "ac807a34",
   "metadata": {},
   "outputs": [],
   "source": []
  }
 ],
 "metadata": {
  "kernelspec": {
   "display_name": "Python 3 (ipykernel)",
   "language": "python",
   "name": "python3"
  },
  "language_info": {
   "codemirror_mode": {
    "name": "ipython",
    "version": 3
   },
   "file_extension": ".py",
   "mimetype": "text/x-python",
   "name": "python",
   "nbconvert_exporter": "python",
   "pygments_lexer": "ipython3",
   "version": "3.9.13"
  }
 },
 "nbformat": 4,
 "nbformat_minor": 5
}

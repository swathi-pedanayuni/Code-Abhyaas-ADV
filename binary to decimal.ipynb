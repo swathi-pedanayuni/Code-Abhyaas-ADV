{
 "cells": [
  {
   "cell_type": "code",
   "execution_count": 2,
   "id": "d3d5bfc5",
   "metadata": {},
   "outputs": [
    {
     "name": "stdout",
     "output_type": "stream",
     "text": [
      "binary_number: 101010\n",
      "decimal_number: 42\n"
     ]
    }
   ],
   "source": [
    "## to convert binary number  to decimal number\n",
    "\n",
    "binary='101010'\n",
    "decimal=0\n",
    "\n",
    "for i in range(len(binary)):\n",
    "    digit=int(binary[len(binary)-1-i])\n",
    "    decimal+=digit*2**i\n",
    "\n",
    "print(\"binary_number:\",binary)\n",
    "print(\"decimal_number:\",decimal)\n",
    "\n",
    "\n",
    "\n"
   ]
  },
  {
   "cell_type": "code",
   "execution_count": null,
   "id": "0072fc9f",
   "metadata": {},
   "outputs": [],
   "source": []
  }
 ],
 "metadata": {
  "kernelspec": {
   "display_name": "Python 3 (ipykernel)",
   "language": "python",
   "name": "python3"
  },
  "language_info": {
   "codemirror_mode": {
    "name": "ipython",
    "version": 3
   },
   "file_extension": ".py",
   "mimetype": "text/x-python",
   "name": "python",
   "nbconvert_exporter": "python",
   "pygments_lexer": "ipython3",
   "version": "3.9.13"
  }
 },
 "nbformat": 4,
 "nbformat_minor": 5
}

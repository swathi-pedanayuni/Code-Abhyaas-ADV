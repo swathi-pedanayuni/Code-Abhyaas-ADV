{
 "cells": [
  {
   "cell_type": "code",
   "execution_count": 1,
   "id": "61ece532",
   "metadata": {},
   "outputs": [
    {
     "name": "stdout",
     "output_type": "stream",
     "text": [
      "[1, 2, 3, 6, 9, 8, 7, 4, 5]\n"
     ]
    }
   ],
   "source": [
    "#spiral traversal of a matrix\n",
    "\n",
    "def spiral_traversal(matrix):\n",
    "  result=[]\n",
    "\n",
    "  top,bottom,left,right=0,len(matrix)-1,0,len(matrix[0])-1\n",
    "\n",
    "  while top<=bottom and left<=right:\n",
    "\n",
    "    #traverse the  left to right with top row\n",
    "\n",
    "    for i in range(left,right+1):\n",
    "      result.append(matrix[top][i])\n",
    "    top+=1\n",
    "\n",
    "    #traverse from top to bottom along with rightmost column\n",
    "    for i in range(top,bottom+1):\n",
    "      result.append(matrix[i][right])\n",
    "    right-=1\n",
    "\n",
    "    #traverse right to left with bottom row\n",
    "    if top<=bottom:\n",
    "      for i in range(right,left-1,-1):\n",
    "        result.append(matrix[bottom][i])\n",
    "      bottom-=1\n",
    "\n",
    "    #traverse bottom to top with left most column\n",
    "    if left<=right:\n",
    "      for i in range(bottom,top-1,-1):\n",
    "        result.append(matrix[i][left])\n",
    "      left+=1\n",
    "  return result\n",
    "\n",
    "\n",
    "#example usage\n",
    "matrix=[[1,2,3],\n",
    "        [4,5,6],\n",
    "        [7,8,9]]\n",
    "result=spiral_traversal(matrix)\n",
    "print(result)\n",
    "\n",
    "\n"
   ]
  },
  {
   "cell_type": "code",
   "execution_count": null,
   "id": "82d1f259",
   "metadata": {},
   "outputs": [],
   "source": []
  }
 ],
 "metadata": {
  "kernelspec": {
   "display_name": "Python 3 (ipykernel)",
   "language": "python",
   "name": "python3"
  },
  "language_info": {
   "codemirror_mode": {
    "name": "ipython",
    "version": 3
   },
   "file_extension": ".py",
   "mimetype": "text/x-python",
   "name": "python",
   "nbconvert_exporter": "python",
   "pygments_lexer": "ipython3",
   "version": "3.9.13"
  }
 },
 "nbformat": 4,
 "nbformat_minor": 5
}

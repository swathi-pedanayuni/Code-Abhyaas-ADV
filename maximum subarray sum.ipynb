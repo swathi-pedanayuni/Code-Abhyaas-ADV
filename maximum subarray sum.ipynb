{
 "cells": [
  {
   "cell_type": "code",
   "execution_count": 1,
   "id": "383aa6d3",
   "metadata": {},
   "outputs": [
    {
     "name": "stdout",
     "output_type": "stream",
     "text": [
      "maximum sum is : 7\n"
     ]
    }
   ],
   "source": [
    "#finding maximum subarray sum\n",
    "#kadane's algorithm\n",
    "\n",
    "arr=[-2,-3,4,-1,-2,1,5,-3]\n",
    "sum=0\n",
    "max_sum=0\n",
    "\n",
    "for i in range(len(arr)):\n",
    "    sum+=arr[i]\n",
    "    if sum<0:\n",
    "        sum=0\n",
    "    if sum>max_sum:\n",
    "        max_sum=sum\n",
    "print(\"maximum sum is :\",max_sum)"
   ]
  },
  {
   "cell_type": "code",
   "execution_count": null,
   "id": "3425102b",
   "metadata": {},
   "outputs": [],
   "source": []
  }
 ],
 "metadata": {
  "kernelspec": {
   "display_name": "Python 3 (ipykernel)",
   "language": "python",
   "name": "python3"
  },
  "language_info": {
   "codemirror_mode": {
    "name": "ipython",
    "version": 3
   },
   "file_extension": ".py",
   "mimetype": "text/x-python",
   "name": "python",
   "nbconvert_exporter": "python",
   "pygments_lexer": "ipython3",
   "version": "3.9.13"
  }
 },
 "nbformat": 4,
 "nbformat_minor": 5
}

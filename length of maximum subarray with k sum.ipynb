{
 "cells": [
  {
   "cell_type": "code",
   "execution_count": null,
   "id": "18c3ac38",
   "metadata": {},
   "outputs": [],
   "source": [
    "#length of maximum sub array with k sum\n",
    "arr=[1,2,3,4,5]\n",
    "\n",
    "k=9\n",
    "\n",
    "\n",
    "left=0\n",
    "current_sum=0\n",
    "max_length=0\n",
    "\n",
    "for right in range(len(arr)):\n",
    "    current_sum+=arr[right]\n",
    "    \n",
    "    while current_sum>k:\n",
    "        current_sum-=arr[left]\n",
    "        left+=1\n",
    "        \n",
    "    if current_sum==k:\n",
    "        if  right-left+1>max_length:\n",
    "            max_length=right-left+1\n",
    "print(f\"maximum subarray length with sum {k} is {max_length}\")"
   ]
  }
 ],
 "metadata": {
  "kernelspec": {
   "display_name": "Python 3 (ipykernel)",
   "language": "python",
   "name": "python3"
  },
  "language_info": {
   "codemirror_mode": {
    "name": "ipython",
    "version": 3
   },
   "file_extension": ".py",
   "mimetype": "text/x-python",
   "name": "python",
   "nbconvert_exporter": "python",
   "pygments_lexer": "ipython3",
   "version": "3.9.13"
  }
 },
 "nbformat": 4,
 "nbformat_minor": 5
}

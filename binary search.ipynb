{
 "cells": [
  {
   "cell_type": "code",
   "execution_count": 1,
   "id": "d56c30b4",
   "metadata": {},
   "outputs": [
    {
     "name": "stdout",
     "output_type": "stream",
     "text": [
      "element is found at 1\n"
     ]
    }
   ],
   "source": [
    "## binary search\n",
    "\n",
    "arr=[1,2,5,6,9,10,15,18]\n",
    "\n",
    "target=2\n",
    "\n",
    "n=len(arr)\n",
    "\n",
    "left,right=0,n-1\n",
    "\n",
    "index=-1\n",
    "\n",
    "while left<=right:\n",
    "    mid=(left+right)//2\n",
    "    \n",
    "    if arr[mid]==target:\n",
    "        index=mid\n",
    "        break\n",
    "    elif arr[mid]<target:\n",
    "        left=mid+1 # search right half\n",
    "    else:\n",
    "        right=mid-1 # search left half\n",
    "        \n",
    "if index!=-1:\n",
    "    print(f\"element is found at {index}\")\n",
    "else:\n",
    "    print(\"element is not found\")\n",
    "    \n",
    "    "
   ]
  },
  {
   "cell_type": "code",
   "execution_count": null,
   "id": "ed2f14c1",
   "metadata": {},
   "outputs": [],
   "source": []
  }
 ],
 "metadata": {
  "kernelspec": {
   "display_name": "Python 3 (ipykernel)",
   "language": "python",
   "name": "python3"
  },
  "language_info": {
   "codemirror_mode": {
    "name": "ipython",
    "version": 3
   },
   "file_extension": ".py",
   "mimetype": "text/x-python",
   "name": "python",
   "nbconvert_exporter": "python",
   "pygments_lexer": "ipython3",
   "version": "3.9.13"
  }
 },
 "nbformat": 4,
 "nbformat_minor": 5
}

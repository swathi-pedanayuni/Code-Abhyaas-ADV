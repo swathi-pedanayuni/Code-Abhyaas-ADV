{
 "cells": [
  {
   "cell_type": "code",
   "execution_count": 2,
   "id": "5e228dd9",
   "metadata": {},
   "outputs": [
    {
     "name": "stdout",
     "output_type": "stream",
     "text": [
      "Sorted arr1: [0, 1, 2, 3]\n",
      "Sorted arr2: [5, 6, 7, 8, 9]\n"
     ]
    }
   ],
   "source": [
    "#sort two sorted arrays\n",
    "\n",
    "arr1=[1,3,5,7]\n",
    "arr2=[0,2,6,8,9]\n",
    "\n",
    "n=len(arr1)\n",
    "m=len(arr2)\n",
    "\n",
    "left=n-1\n",
    "right=0\n",
    "\n",
    "#merge arr1 and arr2\n",
    "while left>=0 and right<m:\n",
    "    if arr1[left]>arr2[right]:\n",
    "        arr1[left],arr2[right]=arr2[right],arr1[left]\n",
    "        left-=1\n",
    "        right+=1\n",
    "    else:\n",
    "        break\n",
    "\n",
    "#sort arr1\n",
    "while True:\n",
    "    swapped=False\n",
    "    for i in range(n - 1):\n",
    "        if arr1[i] > arr1[i + 1]:\n",
    "            arr1[i], arr1[i + 1] = arr1[i + 1], arr1[i]\n",
    "            swapped=True\n",
    "    if not swapped:\n",
    "        break\n",
    "\n",
    "# Sort arr2\n",
    "while True:\n",
    "    swapped = False\n",
    "    for i in range(m - 1):\n",
    "        if arr2[i] > arr2[i + 1]:\n",
    "            arr2[i], arr2[i + 1] = arr2[i + 1], arr2[i]\n",
    "            swapped = True\n",
    "    if not swapped:\n",
    "        break\n",
    "\n",
    "print(\"Sorted arr1:\", arr1)\n",
    "print(\"Sorted arr2:\", arr2)\n",
    "\n",
    "\n",
    "\n",
    "\n",
    "\n"
   ]
  },
  {
   "cell_type": "code",
   "execution_count": null,
   "id": "7d753768",
   "metadata": {},
   "outputs": [],
   "source": []
  }
 ],
 "metadata": {
  "kernelspec": {
   "display_name": "Python 3 (ipykernel)",
   "language": "python",
   "name": "python3"
  },
  "language_info": {
   "codemirror_mode": {
    "name": "ipython",
    "version": 3
   },
   "file_extension": ".py",
   "mimetype": "text/x-python",
   "name": "python",
   "nbconvert_exporter": "python",
   "pygments_lexer": "ipython3",
   "version": "3.9.13"
  }
 },
 "nbformat": 4,
 "nbformat_minor": 5
}

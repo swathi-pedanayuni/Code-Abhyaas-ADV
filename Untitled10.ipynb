{
 "cells": [
  {
   "cell_type": "code",
   "execution_count": 6,
   "id": "62e13256",
   "metadata": {},
   "outputs": [
    {
     "name": "stdout",
     "output_type": "stream",
     "text": [
      "{5: 5, 1: 2, 2: 2, 4: 4, 3: 3}\n",
      " max element is : 5\n",
      "frequency of element is:5\n"
     ]
    }
   ],
   "source": [
    "#find max frequency element in arr\n",
    "\n",
    "arr=[5,5,5,5,5,1,2,1,2,4,4,4,4,3,3,3]\n",
    "\n",
    "dict={}\n",
    "\n",
    "for i in arr:\n",
    "    if i  in dict:\n",
    "        dict[i]+=1\n",
    "    else:\n",
    "        dict[i]=1\n",
    "\n",
    "print(dict)\n",
    "\n",
    "max=2\n",
    "max_ele=0\n",
    "for key,value in dict.items():\n",
    "    if value>max:\n",
    "        max=value\n",
    "        max_ele=key\n",
    "        \n",
    "print(f\" max element is : {max_ele}\")\n",
    "print(f\"frequency of element is:{ max}\")"
   ]
  },
  {
   "cell_type": "code",
   "execution_count": null,
   "id": "f69ae63b",
   "metadata": {},
   "outputs": [],
   "source": []
  }
 ],
 "metadata": {
  "kernelspec": {
   "display_name": "Python 3 (ipykernel)",
   "language": "python",
   "name": "python3"
  },
  "language_info": {
   "codemirror_mode": {
    "name": "ipython",
    "version": 3
   },
   "file_extension": ".py",
   "mimetype": "text/x-python",
   "name": "python",
   "nbconvert_exporter": "python",
   "pygments_lexer": "ipython3",
   "version": "3.9.13"
  }
 },
 "nbformat": 4,
 "nbformat_minor": 5
}

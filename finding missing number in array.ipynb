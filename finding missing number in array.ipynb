{
 "cells": [
  {
   "cell_type": "code",
   "execution_count": 1,
   "id": "2f793fe1",
   "metadata": {},
   "outputs": [
    {
     "name": "stdout",
     "output_type": "stream",
     "text": [
      "missing number: 2\n"
     ]
    }
   ],
   "source": [
    "## find missing number in arry\n",
    "\n",
    "arr=[1,3,4,5]\n",
    "\n",
    "total_xor=0\n",
    "arr_xor=0\n",
    "\n",
    "n=len(arr)\n",
    "\n",
    "# xor all elemnts 1 to n\n",
    "for i in range(1,n+2):\n",
    "    total_xor^=i\n",
    "\n",
    "# xor all elements in the array\n",
    "for num in arr:\n",
    "    arr_xor^=num\n",
    "\n",
    "missing_number=total_xor^arr_xor\n",
    "\n",
    "print(\"missing number:\",missing_number)\n"
   ]
  },
  {
   "cell_type": "code",
   "execution_count": null,
   "id": "9cca7371",
   "metadata": {},
   "outputs": [],
   "source": []
  }
 ],
 "metadata": {
  "kernelspec": {
   "display_name": "Python 3 (ipykernel)",
   "language": "python",
   "name": "python3"
  },
  "language_info": {
   "codemirror_mode": {
    "name": "ipython",
    "version": 3
   },
   "file_extension": ".py",
   "mimetype": "text/x-python",
   "name": "python",
   "nbconvert_exporter": "python",
   "pygments_lexer": "ipython3",
   "version": "3.9.13"
  }
 },
 "nbformat": 4,
 "nbformat_minor": 5
}

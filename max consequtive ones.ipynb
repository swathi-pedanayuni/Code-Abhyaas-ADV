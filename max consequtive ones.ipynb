{
 "cells": [
  {
   "cell_type": "code",
   "execution_count": 1,
   "id": "7e2d0896",
   "metadata": {},
   "outputs": [
    {
     "name": "stdout",
     "output_type": "stream",
     "text": [
      "arr with max consequite ones: 5\n"
     ]
    }
   ],
   "source": [
    "#find max  cosequtive ones\n",
    "\n",
    "arr=[1,1,1,0,0,0,1,1,1,1,0,0,1,1,1,1,1]\n",
    "\n",
    "curr_ones=0\n",
    "max_ones=0\n",
    "\n",
    "for i in arr:\n",
    "    if  i==1:\n",
    "        curr_ones+=1\n",
    "        if curr_ones>max_ones:\n",
    "            max_ones=curr_ones\n",
    "    else:\n",
    "        curr_ones=0\n",
    "\n",
    "print(\"arr with max consequite ones:\",max_ones)"
   ]
  },
  {
   "cell_type": "code",
   "execution_count": null,
   "id": "9930d6b6",
   "metadata": {},
   "outputs": [],
   "source": []
  }
 ],
 "metadata": {
  "kernelspec": {
   "display_name": "Python 3 (ipykernel)",
   "language": "python",
   "name": "python3"
  },
  "language_info": {
   "codemirror_mode": {
    "name": "ipython",
    "version": 3
   },
   "file_extension": ".py",
   "mimetype": "text/x-python",
   "name": "python",
   "nbconvert_exporter": "python",
   "pygments_lexer": "ipython3",
   "version": "3.9.13"
  }
 },
 "nbformat": 4,
 "nbformat_minor": 5
}

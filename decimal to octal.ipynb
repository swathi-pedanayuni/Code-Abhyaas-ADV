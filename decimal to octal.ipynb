{
 "cells": [
  {
   "cell_type": "code",
   "execution_count": 1,
   "id": "8fe1bdcc",
   "metadata": {},
   "outputs": [
    {
     "name": "stdout",
     "output_type": "stream",
     "text": [
      "decimal_num: 231\n",
      "ocatl_equ: 347 \n"
     ]
    }
   ],
   "source": [
    "## to convert decimal number to octal number\n",
    "\n",
    "decimal_num=231\n",
    "octal_equ=\" \"\n",
    "\n",
    "print(\"decimal_num:\",decimal_num)\n",
    "while decimal_num>0:\n",
    "    remainder=decimal_num % 8\n",
    "    #add to left side of octal_equ\n",
    "    octal_equ=str(remainder) + octal_equ\n",
    "    decimal_num//=8\n",
    "\n",
    "\n",
    "print(\"ocatl_equ:\",octal_equ)"
   ]
  },
  {
   "cell_type": "code",
   "execution_count": null,
   "id": "dd773fac",
   "metadata": {},
   "outputs": [],
   "source": []
  }
 ],
 "metadata": {
  "kernelspec": {
   "display_name": "Python 3 (ipykernel)",
   "language": "python",
   "name": "python3"
  },
  "language_info": {
   "codemirror_mode": {
    "name": "ipython",
    "version": 3
   },
   "file_extension": ".py",
   "mimetype": "text/x-python",
   "name": "python",
   "nbconvert_exporter": "python",
   "pygments_lexer": "ipython3",
   "version": "3.9.13"
  }
 },
 "nbformat": 4,
 "nbformat_minor": 5
}

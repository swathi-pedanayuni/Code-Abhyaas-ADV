{
 "cells": [
  {
   "cell_type": "code",
   "execution_count": 1,
   "id": "199710f6",
   "metadata": {},
   "outputs": [
    {
     "name": "stdout",
     "output_type": "stream",
     "text": [
      "25\n"
     ]
    }
   ],
   "source": [
    "arr=[1,4,9,16,36,49,64,81,100]\n",
    "\n",
    "##calculate expected xor of consequetive numbers\n",
    "\n",
    "expect_xor=0\n",
    "for i in range(1,11):\n",
    "    expect_xor^=i*i\n",
    "    \n",
    "#calculate actual xor in arr\n",
    "\n",
    "actual_xor=0\n",
    "\n",
    "for i in arr:\n",
    "    actual_xor^=i\n",
    "    \n",
    "missing_num=expect_xor^actual_xor\n",
    "\n",
    "print(missing_num)\n"
   ]
  },
  {
   "cell_type": "code",
   "execution_count": null,
   "id": "a3103ab0",
   "metadata": {},
   "outputs": [],
   "source": []
  }
 ],
 "metadata": {
  "kernelspec": {
   "display_name": "Python 3 (ipykernel)",
   "language": "python",
   "name": "python3"
  },
  "language_info": {
   "codemirror_mode": {
    "name": "ipython",
    "version": 3
   },
   "file_extension": ".py",
   "mimetype": "text/x-python",
   "name": "python",
   "nbconvert_exporter": "python",
   "pygments_lexer": "ipython3",
   "version": "3.9.13"
  }
 },
 "nbformat": 4,
 "nbformat_minor": 5
}

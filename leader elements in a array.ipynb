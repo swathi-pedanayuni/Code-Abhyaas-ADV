{
 "cells": [
  {
   "cell_type": "code",
   "execution_count": 2,
   "id": "f7d72ef6",
   "metadata": {},
   "outputs": [
    {
     "name": "stdout",
     "output_type": "stream",
     "text": [
      "[6, 12, 22]\n",
      "[22, 12, 6]\n"
     ]
    }
   ],
   "source": [
    "##leader elements in a array\n",
    "\n",
    "arr=[10,22,12,3,0,6]\n",
    "\n",
    "n=len(arr)\n",
    "max_right=arr[n-1]\n",
    "leaders=[max_right]\n",
    "\n",
    "for i in range(n-2,-1,-1):\n",
    "    if arr[i]>=max_right:\n",
    "        leaders.append(arr[i])\n",
    "        max_right=arr[i]\n",
    "        \n",
    "print(leaders)  \n",
    "def reverse(start,end):\n",
    "    while start<end:\n",
    "        leaders[start],leaders[end]=leaders[end],leaders[start]\n",
    "        start+=1\n",
    "        end-=1\n",
    "\n",
    "reverse(0,2)\n",
    "print(leaders)"
   ]
  },
  {
   "cell_type": "code",
   "execution_count": null,
   "id": "5c9473eb",
   "metadata": {},
   "outputs": [],
   "source": []
  }
 ],
 "metadata": {
  "kernelspec": {
   "display_name": "Python 3 (ipykernel)",
   "language": "python",
   "name": "python3"
  },
  "language_info": {
   "codemirror_mode": {
    "name": "ipython",
    "version": 3
   },
   "file_extension": ".py",
   "mimetype": "text/x-python",
   "name": "python",
   "nbconvert_exporter": "python",
   "pygments_lexer": "ipython3",
   "version": "3.9.13"
  }
 },
 "nbformat": 4,
 "nbformat_minor": 5
}

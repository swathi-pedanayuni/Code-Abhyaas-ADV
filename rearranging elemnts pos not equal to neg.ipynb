{
 "cells": [
  {
   "cell_type": "code",
   "execution_count": 1,
   "id": "e1c51231",
   "metadata": {},
   "outputs": [
    {
     "name": "stdout",
     "output_type": "stream",
     "text": [
      "[1, -2, 3, -4, 5]\n"
     ]
    }
   ],
   "source": [
    "##rearrane elements when pos!=neg\n",
    "\n",
    "def rearrange_elements(arr):\n",
    "    positives=[]\n",
    "    negatives=[]\n",
    "    \n",
    "    #seperate positive and negative elements\n",
    "    \n",
    "    for num in range(len(arr)):\n",
    "        if arr[num]>=0:\n",
    "            positives.append(arr[num])\n",
    "        else:\n",
    "            negatives.append(arr[num])\n",
    "            \n",
    "\n",
    "    #determine longerlist and excess element\n",
    "    \n",
    "    if len(positives)>len(negatives):\n",
    "        longer_list=positives\n",
    "        shorter_list=negatives\n",
    "    else:\n",
    "        longer_list=neagtives\n",
    "        shorter_list=positives\n",
    "        \n",
    "    #rearrang elements by alternate between positive and neagtive\n",
    "    result=[]\n",
    "    for i in range(len(shorter_list)):\n",
    "        result.append(longer_list[i])\n",
    "        result.append(shorter_list[i])\n",
    "        \n",
    "    #add excess elements from longer_list\n",
    "    result.extend(longer_list[len(shorter_list):])\n",
    "    \n",
    "    return result\n",
    "\n",
    "#example usage\n",
    "\n",
    "arr=[1,-2,3,-4,5]\n",
    "\n",
    "rearrange_arr=rearrange_elements(arr)\n",
    "print(rearrange_arr)"
   ]
  },
  {
   "cell_type": "code",
   "execution_count": null,
   "id": "13b3157c",
   "metadata": {},
   "outputs": [],
   "source": []
  },
  {
   "cell_type": "code",
   "execution_count": null,
   "id": "07e9fcf6",
   "metadata": {},
   "outputs": [],
   "source": []
  }
 ],
 "metadata": {
  "kernelspec": {
   "display_name": "Python 3 (ipykernel)",
   "language": "python",
   "name": "python3"
  },
  "language_info": {
   "codemirror_mode": {
    "name": "ipython",
    "version": 3
   },
   "file_extension": ".py",
   "mimetype": "text/x-python",
   "name": "python",
   "nbconvert_exporter": "python",
   "pygments_lexer": "ipython3",
   "version": "3.9.13"
  }
 },
 "nbformat": 4,
 "nbformat_minor": 5
}

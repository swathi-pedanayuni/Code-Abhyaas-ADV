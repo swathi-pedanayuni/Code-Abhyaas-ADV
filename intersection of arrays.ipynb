{
 "cells": [
  {
   "cell_type": "code",
   "execution_count": 1,
   "id": "96e88e37",
   "metadata": {},
   "outputs": [
    {
     "name": "stdout",
     "output_type": "stream",
     "text": [
      "[6, 8]\n"
     ]
    }
   ],
   "source": [
    "## intersection of two arrays\n",
    "\n",
    "arr1=[1,4,6,8,9]\n",
    "arr2=[2,3,5,6,8]\n",
    "\n",
    "intersection=[]\n",
    "\n",
    "i,j=0,0\n",
    "\n",
    "n1,n2=len(arr1),len(arr2)\n",
    "\n",
    "while i<n1 and j<n2:\n",
    "    if arr1[i]==arr2[j]:\n",
    "        intersection.append(arr1[i])\n",
    "        i+=1\n",
    "        j+=1\n",
    "    \n",
    "    elif arr1[i]<arr2[j]:\n",
    "        i+=1\n",
    "    else:\n",
    "        j+=1\n",
    "\n",
    "print(intersection)"
   ]
  },
  {
   "cell_type": "code",
   "execution_count": null,
   "id": "e262288a",
   "metadata": {},
   "outputs": [],
   "source": []
  }
 ],
 "metadata": {
  "kernelspec": {
   "display_name": "Python 3 (ipykernel)",
   "language": "python",
   "name": "python3"
  },
  "language_info": {
   "codemirror_mode": {
    "name": "ipython",
    "version": 3
   },
   "file_extension": ".py",
   "mimetype": "text/x-python",
   "name": "python",
   "nbconvert_exporter": "python",
   "pygments_lexer": "ipython3",
   "version": "3.9.13"
  }
 },
 "nbformat": 4,
 "nbformat_minor": 5
}

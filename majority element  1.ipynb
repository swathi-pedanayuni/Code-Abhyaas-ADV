{
 "cells": [
  {
   "cell_type": "code",
   "execution_count": 2,
   "id": "0918bd20",
   "metadata": {},
   "outputs": [
    {
     "name": "stdout",
     "output_type": "stream",
     "text": [
      "majority element: 2\n"
     ]
    }
   ],
   "source": [
    "## majority element in array > n/2\n",
    "\n",
    "arr=[2,2,3,3,2,2,2]\n",
    "\n",
    "candidate=None\n",
    "count=0\n",
    "\n",
    "#finding potential candidate\n",
    "index=0\n",
    "\n",
    "while index< len(arr):\n",
    "    if count==0:\n",
    "        candidate=arr[index]\n",
    "    if arr[index]==candidate:\n",
    "        count+=1\n",
    "    else:\n",
    "        count-=1\n",
    "    index+=1\n",
    "\n",
    "#counting accurences of potiential candidate\n",
    "count=0\n",
    "index=0\n",
    "\n",
    "while index<len(arr):\n",
    "    if arr[index]==candidate:\n",
    "        count+=1\n",
    "    index+=1\n",
    "\n",
    "if count> len(arr)//2:\n",
    "    print(f\"majority element: {candidate}\")\n",
    "else:\n",
    "    print(\"no majority element found\")\n"
   ]
  },
  {
   "cell_type": "code",
   "execution_count": null,
   "id": "f32773f0",
   "metadata": {},
   "outputs": [],
   "source": []
  }
 ],
 "metadata": {
  "kernelspec": {
   "display_name": "Python 3 (ipykernel)",
   "language": "python",
   "name": "python3"
  },
  "language_info": {
   "codemirror_mode": {
    "name": "ipython",
    "version": 3
   },
   "file_extension": ".py",
   "mimetype": "text/x-python",
   "name": "python",
   "nbconvert_exporter": "python",
   "pygments_lexer": "ipython3",
   "version": "3.9.13"
  }
 },
 "nbformat": 4,
 "nbformat_minor": 5
}

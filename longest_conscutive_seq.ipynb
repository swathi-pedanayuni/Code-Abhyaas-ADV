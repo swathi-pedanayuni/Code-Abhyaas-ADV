{
 "cells": [
  {
   "cell_type": "code",
   "execution_count": 1,
   "id": "c9ac1bf9",
   "metadata": {},
   "outputs": [
    {
     "name": "stdout",
     "output_type": "stream",
     "text": [
      "4\n"
     ]
    }
   ],
   "source": [
    "#longest consecutive sequence\n",
    "\n",
    "def longest_consecutive_seq(nums):\n",
    "  #take set\n",
    "  nums_set=set(nums)\n",
    "  max_length=0\n",
    "\n",
    "  #only consider numbers that are potential satring points of sequence\n",
    "  for num in nums_set:\n",
    "    if num-1 not in nums_set:\n",
    "      curr_num=num\n",
    "      curr_length=1\n",
    "\n",
    "      #extend current sequence incrementing the num\n",
    "      while curr_num+1 in nums_set:\n",
    "        curr_num+=1\n",
    "        curr_length+=1\n",
    "\n",
    "        if curr_length>max_length:\n",
    "          max_length=curr_length\n",
    "  return max_length\n",
    "#example usage\n",
    "\n",
    "nums=[102,4,100,1,101,3,2,1,1]\n",
    "result=longest_consecutive_seq(nums)\n",
    "print(result)\n"
   ]
  },
  {
   "cell_type": "code",
   "execution_count": null,
   "id": "a50fef50",
   "metadata": {},
   "outputs": [],
   "source": []
  }
 ],
 "metadata": {
  "kernelspec": {
   "display_name": "Python 3 (ipykernel)",
   "language": "python",
   "name": "python3"
  },
  "language_info": {
   "codemirror_mode": {
    "name": "ipython",
    "version": 3
   },
   "file_extension": ".py",
   "mimetype": "text/x-python",
   "name": "python",
   "nbconvert_exporter": "python",
   "pygments_lexer": "ipython3",
   "version": "3.9.13"
  }
 },
 "nbformat": 4,
 "nbformat_minor": 5
}

{
 "cells": [
  {
   "cell_type": "code",
   "execution_count": 1,
   "id": "bcf7f2a7",
   "metadata": {},
   "outputs": [
    {
     "name": "stdout",
     "output_type": "stream",
     "text": [
      "[3, 4, 7, 9, 11, 12]\n",
      "[11, 12, 3, 4, 7, 9]\n"
     ]
    }
   ],
   "source": [
    "## rightt rotate array by k positions\n",
    "\n",
    "arr=[3,4,7,9,11,12]\n",
    "print(arr)\n",
    "\n",
    "k=2\n",
    "\n",
    "n=len(arr)\n",
    "\n",
    "# reversing array between start and end indices\n",
    "\n",
    "def reverse_arr(start,end):\n",
    "    while start<end:\n",
    "        arr[start],arr[end]=arr[end],arr[start]\n",
    "        start+=1\n",
    "        end-=1\n",
    "\n",
    "##rotate the array by k positions\n",
    "\n",
    "\n",
    "reverse_arr(0,n-1)\n",
    "reverse_arr(0,k-1)\n",
    "reverse_arr(k,n-1)\n",
    "\n",
    "print(arr)\n",
    "\n"
   ]
  },
  {
   "cell_type": "code",
   "execution_count": null,
   "id": "2034c4d4",
   "metadata": {},
   "outputs": [],
   "source": []
  }
 ],
 "metadata": {
  "kernelspec": {
   "display_name": "Python 3 (ipykernel)",
   "language": "python",
   "name": "python3"
  },
  "language_info": {
   "codemirror_mode": {
    "name": "ipython",
    "version": 3
   },
   "file_extension": ".py",
   "mimetype": "text/x-python",
   "name": "python",
   "nbconvert_exporter": "python",
   "pygments_lexer": "ipython3",
   "version": "3.9.13"
  }
 },
 "nbformat": 4,
 "nbformat_minor": 5
}

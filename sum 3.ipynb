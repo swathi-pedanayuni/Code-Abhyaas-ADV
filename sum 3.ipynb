{
 "cells": [
  {
   "cell_type": "code",
   "execution_count": 1,
   "id": "63ff2ba3",
   "metadata": {},
   "outputs": [
    {
     "name": "stdout",
     "output_type": "stream",
     "text": [
      "[[-1, -1, 2], [-1, 0, 1]]\n"
     ]
    }
   ],
   "source": [
    "# 3 sum\n",
    "\n",
    "arr=[-1,0,1,2,-1,-4]\n",
    "\n",
    "arr.sort()\n",
    "\n",
    "triplet=[]\n",
    "\n",
    "for i in range(len(arr)-2):\n",
    "    if i>0 and arr[i]==arr[i-1]:\n",
    "        continue\n",
    "        \n",
    "    left=i+1\n",
    "    right=len(arr)-1\n",
    "\n",
    "    while left<right:\n",
    "        total=arr[i]+arr[left]+arr[right]\n",
    "        \n",
    "        if total==0:\n",
    "            triplet.append([arr[i],arr[left],arr[right]])\n",
    "            \n",
    "            while left<right and arr[left]==arr[left+1]:\n",
    "                left+=1\n",
    "            while left<right and arr[right]==arr[right-1]:\n",
    "                right-=1\n",
    "            left+=1\n",
    "            right-=1\n",
    "            \n",
    "        elif total<0:\n",
    "            left+=1\n",
    "        else:\n",
    "            right-=1\n",
    "    \n",
    "        \n",
    "\n",
    "print(triplet)"
   ]
  },
  {
   "cell_type": "code",
   "execution_count": null,
   "id": "932b7dcb",
   "metadata": {},
   "outputs": [],
   "source": []
  }
 ],
 "metadata": {
  "kernelspec": {
   "display_name": "Python 3 (ipykernel)",
   "language": "python",
   "name": "python3"
  },
  "language_info": {
   "codemirror_mode": {
    "name": "ipython",
    "version": 3
   },
   "file_extension": ".py",
   "mimetype": "text/x-python",
   "name": "python",
   "nbconvert_exporter": "python",
   "pygments_lexer": "ipython3",
   "version": "3.9.13"
  }
 },
 "nbformat": 4,
 "nbformat_minor": 5
}

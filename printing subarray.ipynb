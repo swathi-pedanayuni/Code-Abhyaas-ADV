{
 "cells": [
  {
   "cell_type": "code",
   "execution_count": 1,
   "id": "0b0d8e09",
   "metadata": {},
   "outputs": [
    {
     "name": "stdout",
     "output_type": "stream",
     "text": [
      "maximum sum is : 7\n",
      "maximun subarry is: [4, -1, -2, 1, 5]\n"
     ]
    }
   ],
   "source": [
    "#printing maximum subarray\n",
    "arr=[-2,-3,4,-1,-2,1,5,-3]\n",
    "sum=0\n",
    "max_sum=0\n",
    "start_index=-1\n",
    "end_index=-1\n",
    "\n",
    "for i in range(len(arr)):\n",
    "    if sum==0:\n",
    "        start=i\n",
    "    sum+=arr[i]\n",
    "    if sum<0:\n",
    "        sum=0\n",
    "    if sum>max_sum:\n",
    "        max_sum=sum\n",
    "        start_index=start\n",
    "        end_index=i\n",
    "print(\"maximum sum is :\",max_sum)\n",
    "print(\"maximun subarry is:\",arr[start_index:end_index+1])\n"
   ]
  },
  {
   "cell_type": "code",
   "execution_count": null,
   "id": "5448d688",
   "metadata": {},
   "outputs": [],
   "source": []
  },
  {
   "cell_type": "code",
   "execution_count": null,
   "id": "567f1787",
   "metadata": {},
   "outputs": [],
   "source": []
  }
 ],
 "metadata": {
  "kernelspec": {
   "display_name": "Python 3 (ipykernel)",
   "language": "python",
   "name": "python3"
  },
  "language_info": {
   "codemirror_mode": {
    "name": "ipython",
    "version": 3
   },
   "file_extension": ".py",
   "mimetype": "text/x-python",
   "name": "python",
   "nbconvert_exporter": "python",
   "pygments_lexer": "ipython3",
   "version": "3.9.13"
  }
 },
 "nbformat": 4,
 "nbformat_minor": 5
}

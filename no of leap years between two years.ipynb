{
 "cells": [
  {
   "cell_type": "code",
   "execution_count": 1,
   "id": "83a2d1c6",
   "metadata": {},
   "outputs": [
    {
     "name": "stdout",
     "output_type": "stream",
     "text": [
      "enter first year:1999\n",
      "enter second year:2023\n",
      "no of years: 6\n"
     ]
    }
   ],
   "source": [
    "#no of leap years between two years\n",
    "\n",
    "num1=int(input(\"enter first year:\"))\n",
    "num2=int(input(\"enter second year:\"))\n",
    "\n",
    "v=num1//4-num1//100+num1//400\n",
    "u=num2//4-num1//100+num1//400\n",
    "\n",
    "print(\"no of years:\",u-v)\n",
    "\n"
   ]
  },
  {
   "cell_type": "code",
   "execution_count": null,
   "id": "2a8ada68",
   "metadata": {},
   "outputs": [],
   "source": []
  }
 ],
 "metadata": {
  "kernelspec": {
   "display_name": "Python 3 (ipykernel)",
   "language": "python",
   "name": "python3"
  },
  "language_info": {
   "codemirror_mode": {
    "name": "ipython",
    "version": 3
   },
   "file_extension": ".py",
   "mimetype": "text/x-python",
   "name": "python",
   "nbconvert_exporter": "python",
   "pygments_lexer": "ipython3",
   "version": "3.9.13"
  }
 },
 "nbformat": 4,
 "nbformat_minor": 5
}

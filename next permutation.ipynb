{
 "cells": [
  {
   "cell_type": "code",
   "execution_count": 10,
   "id": "2e66592e",
   "metadata": {},
   "outputs": [
    {
     "name": "stdout",
     "output_type": "stream",
     "text": [
      "[1, 2, 3]\n"
     ]
    }
   ],
   "source": [
    "#next permutation\n",
    "\n",
    "def next_permutation(nums):\n",
    "    \n",
    "    #find first pair (a,b) where a<b while traversing right to left.\n",
    "    i=len(nums)-2\n",
    "    \n",
    "    while i>=0 and nums[i]>=nums[i+1]:\n",
    "        i-=1\n",
    "        \n",
    "    #if no such pair found .it's in desending order .it is the last permutation.\n",
    "    \n",
    "    if i==-1:\n",
    "        nums.reverse()#reverse the entire sequence\n",
    "        return \n",
    "    \n",
    "    #find first greater element that is right to a.\n",
    "    j=len(nums)-1\n",
    "    \n",
    "    while nums[j]<=nums[i]:\n",
    "        j-=1\n",
    "    nums[j],nums[i]=nums[i],nums[j]\n",
    "    \n",
    "    #reverse the portion to right of a \n",
    "    \n",
    "    l=i+1\n",
    "    r=len(nums)-1\n",
    "    while l<r:\n",
    "        nums[l],nums[r]=nums[r],nums[l]\n",
    "        l+=1\n",
    "        r-=1\n",
    "#example usage\n",
    "\n",
    "nums=[3,2,1]\n",
    "next_permutation(nums)\n",
    "print(nums)"
   ]
  },
  {
   "cell_type": "code",
   "execution_count": 4,
   "id": "94c4a627",
   "metadata": {},
   "outputs": [
    {
     "name": "stdout",
     "output_type": "stream",
     "text": [
      "[1, 2, 3]\n"
     ]
    }
   ],
   "source": [
    "\n"
   ]
  },
  {
   "cell_type": "code",
   "execution_count": null,
   "id": "877330fd",
   "metadata": {},
   "outputs": [],
   "source": []
  }
 ],
 "metadata": {
  "kernelspec": {
   "display_name": "Python 3 (ipykernel)",
   "language": "python",
   "name": "python3"
  },
  "language_info": {
   "codemirror_mode": {
    "name": "ipython",
    "version": 3
   },
   "file_extension": ".py",
   "mimetype": "text/x-python",
   "name": "python",
   "nbconvert_exporter": "python",
   "pygments_lexer": "ipython3",
   "version": "3.9.13"
  }
 },
 "nbformat": 4,
 "nbformat_minor": 5
}

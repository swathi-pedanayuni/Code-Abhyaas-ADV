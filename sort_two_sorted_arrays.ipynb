{
  "nbformat": 4,
  "nbformat_minor": 0,
  "metadata": {
    "colab": {
      "provenance": [],
      "authorship_tag": "ABX9TyMf5fcsCpYj1Cm43KbvUYq1",
      "include_colab_link": true
    },
    "kernelspec": {
      "name": "python3",
      "display_name": "Python 3"
    },
    "language_info": {
      "name": "python"
    }
  },
  "cells": [
    {
      "cell_type": "markdown",
      "metadata": {
        "id": "view-in-github",
        "colab_type": "text"
      },
      "source": [
        "<a href=\"https://colab.research.google.com/github/swathi-pedanayuni/Code-Abhyaas-ADV/blob/main/sort_two_sorted_arrays.ipynb\" target=\"_parent\"><img src=\"https://colab.research.google.com/assets/colab-badge.svg\" alt=\"Open In Colab\"/></a>"
      ]
    },
    {
      "cell_type": "code",
      "execution_count": 1,
      "metadata": {
        "colab": {
          "base_uri": "https://localhost:8080/"
        },
        "id": "pJxlNY0TH-gx",
        "outputId": "43513cb9-b735-44e9-a569-bb46ca6d522c"
      },
      "outputs": [
        {
          "output_type": "stream",
          "name": "stdout",
          "text": [
            "Sorted arr1: [0, 1, 2, 3]\n",
            "Sorted arr2: [5, 6, 7, 8, 9]\n"
          ]
        }
      ],
      "source": [
        "#sort two sorted arrays\n",
        "\n",
        "arr1=[1,3,5,7]\n",
        "arr2=[0,2,6,8,9]\n",
        "\n",
        "n=len(arr1)\n",
        "m=len(arr2)\n",
        "\n",
        "left=n-1\n",
        "right=0\n",
        "\n",
        "#merge arr1 and arr2\n",
        "while left>=0 and right<m:\n",
        "    if arr1[left]>arr2[right]:\n",
        "        arr1[left],arr2[right]=arr2[right],arr1[left]\n",
        "        left-=1\n",
        "        right+=1\n",
        "    else:\n",
        "        break\n",
        "\n",
        "#sort arr1\n",
        "while True:\n",
        "    swapped=False\n",
        "    for i in range(n - 1):\n",
        "        if arr1[i] > arr1[i + 1]:\n",
        "            arr1[i], arr1[i + 1] = arr1[i + 1], arr1[i]\n",
        "            swapped=True\n",
        "    if not swapped:\n",
        "        break\n",
        "\n",
        "# Sort arr2\n",
        "while True:\n",
        "    swapped = False\n",
        "    for i in range(m - 1):\n",
        "        if arr2[i] > arr2[i + 1]:\n",
        "            arr2[i], arr2[i + 1] = arr2[i + 1], arr2[i]\n",
        "            swapped = True\n",
        "    if not swapped:\n",
        "        break\n",
        "\n",
        "print(\"Sorted arr1:\", arr1)\n",
        "print(\"Sorted arr2:\", arr2)\n",
        "\n",
        "\n",
        "\n",
        "\n",
        "\n"
      ]
    }
  ]
}
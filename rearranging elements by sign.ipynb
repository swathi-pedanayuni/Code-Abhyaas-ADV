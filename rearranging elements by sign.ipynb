{
 "cells": [
  {
   "cell_type": "code",
   "execution_count": 1,
   "id": "819ceace",
   "metadata": {},
   "outputs": [
    {
     "name": "stdout",
     "output_type": "stream",
     "text": [
      "array after arranging it's elements by sign: [3, -2, 1, -5, 2, -4]\n"
     ]
    }
   ],
   "source": [
    "##rearranging elements of the array by sign\n",
    "\n",
    "arr=[3,1,-2,-5,2,-4]\n",
    "new_arr=[]\n",
    "pos_index=0\n",
    "neg_index=1\n",
    "\n",
    "for i in range(len(arr)):\n",
    "    if arr[i]>0:\n",
    "        new_arr.insert(pos_index,arr[i])\n",
    "        pos_index+=2\n",
    "    else:\n",
    "        new_arr.insert(neg_index,arr[i])\n",
    "        neg_index+=2\n",
    "print(\"array after arranging it's elements by sign:\",new_arr)\n"
   ]
  },
  {
   "cell_type": "code",
   "execution_count": null,
   "id": "ba4dfec4",
   "metadata": {},
   "outputs": [],
   "source": []
  }
 ],
 "metadata": {
  "kernelspec": {
   "display_name": "Python 3 (ipykernel)",
   "language": "python",
   "name": "python3"
  },
  "language_info": {
   "codemirror_mode": {
    "name": "ipython",
    "version": 3
   },
   "file_extension": ".py",
   "mimetype": "text/x-python",
   "name": "python",
   "nbconvert_exporter": "python",
   "pygments_lexer": "ipython3",
   "version": "3.9.13"
  }
 },
 "nbformat": 4,
 "nbformat_minor": 5
}

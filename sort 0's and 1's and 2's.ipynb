{
 "cells": [
  {
   "cell_type": "code",
   "execution_count": 2,
   "id": "64b3dfd4",
   "metadata": {},
   "outputs": [
    {
     "name": "stdout",
     "output_type": "stream",
     "text": [
      "[0, 0, 0, 0, 1, 1, 1, 2, 2]\n"
     ]
    }
   ],
   "source": [
    "#sort the 0's and 1's and 2's of the array\n",
    "#dutch natioanl flag algorithm\n",
    "\n",
    "arr=[1,2,0,1,2,0,1,0,0]\n",
    "\n",
    "low,mid,high=0,0,len(arr)-1\n",
    "\n",
    "while mid<=high:\n",
    "    if arr[mid]==0:\n",
    "        arr[low],arr[mid]=arr[mid],arr[low]\n",
    "        low+=1\n",
    "        mid+=1\n",
    "    elif arr[mid]==1:\n",
    "        mid+=1\n",
    "    else:\n",
    "        arr[mid],arr[high]=arr[high],arr[mid]\n",
    "        high-=1\n",
    "        \n",
    "print(arr)"
   ]
  },
  {
   "cell_type": "code",
   "execution_count": null,
   "id": "cad8ce9e",
   "metadata": {},
   "outputs": [],
   "source": []
  },
  {
   "cell_type": "code",
   "execution_count": null,
   "id": "1c16a16e",
   "metadata": {},
   "outputs": [],
   "source": []
  }
 ],
 "metadata": {
  "kernelspec": {
   "display_name": "Python 3 (ipykernel)",
   "language": "python",
   "name": "python3"
  },
  "language_info": {
   "codemirror_mode": {
    "name": "ipython",
    "version": 3
   },
   "file_extension": ".py",
   "mimetype": "text/x-python",
   "name": "python",
   "nbconvert_exporter": "python",
   "pygments_lexer": "ipython3",
   "version": "3.9.13"
  }
 },
 "nbformat": 4,
 "nbformat_minor": 5
}

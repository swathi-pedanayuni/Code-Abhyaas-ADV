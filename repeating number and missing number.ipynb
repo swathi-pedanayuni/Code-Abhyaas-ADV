{
 "cells": [
  {
   "cell_type": "code",
   "execution_count": 2,
   "id": "08412435",
   "metadata": {},
   "outputs": [
    {
     "name": "stdout",
     "output_type": "stream",
     "text": [
      "repeating_number :1\n",
      "missing_number:5\n"
     ]
    }
   ],
   "source": [
    "a=[4,3,6,2,1,1]\n",
    "n=len(a)\n",
    "\n",
    "\n",
    "\n",
    "sn=n*(n+1)//2  #sum of n natural numbers\n",
    "s2n=n*(n+1)*(2*n+1)//6  #sum of squre of n natural numbers\n",
    "    \n",
    "s=0\n",
    "s2=0\n",
    "    \n",
    "for i in range(n):\n",
    "    s+=a[i]\n",
    "    s2+=a[i]*a[i]\n",
    "        \n",
    "val1=s-sn  #x-y\n",
    "val2=s2-s2n #x2-y2\n",
    "    \n",
    "val2=val2//val1  #x+y\n",
    "    \n",
    "x=(val1+val2)//2\n",
    "y=x-val1\n",
    "\n",
    "print(f\"repeating_number :{x}\")\n",
    "print(f\"missing_number:{y}\")"
   ]
  },
  {
   "cell_type": "code",
   "execution_count": null,
   "id": "f7f42109",
   "metadata": {},
   "outputs": [],
   "source": []
  }
 ],
 "metadata": {
  "kernelspec": {
   "display_name": "Python 3 (ipykernel)",
   "language": "python",
   "name": "python3"
  },
  "language_info": {
   "codemirror_mode": {
    "name": "ipython",
    "version": 3
   },
   "file_extension": ".py",
   "mimetype": "text/x-python",
   "name": "python",
   "nbconvert_exporter": "python",
   "pygments_lexer": "ipython3",
   "version": "3.9.13"
  }
 },
 "nbformat": 4,
 "nbformat_minor": 5
}

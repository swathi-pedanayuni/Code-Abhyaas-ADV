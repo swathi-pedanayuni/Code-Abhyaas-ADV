{
 "cells": [
  {
   "cell_type": "code",
   "execution_count": 3,
   "id": "27bf1f24",
   "metadata": {},
   "outputs": [
    {
     "name": "stdout",
     "output_type": "stream",
     "text": [
      "[[-1, -1, 0, 2]]\n"
     ]
    }
   ],
   "source": [
    "#4 sum\n",
    "nums = [-1, 0, 1, 2, -1, -4]\n",
    "target=0\n",
    "nums.sort()\n",
    "quadruplets = []\n",
    "\n",
    "for i in range(len(nums) - 3):\n",
    "    if i > 0 and nums[i] == nums[i - 1]:\n",
    "        continue  # Skip duplicates to avoid duplicate quadruplets\n",
    "        \n",
    "    for j in range(i+1,len(nums)-2):\n",
    "        if j>i+1 and nums[j]==nums[j-1]:\n",
    "            continue  #skip duplicates to avoid duplicate quardruplets\n",
    "    \n",
    "        left = j + 1\n",
    "        right = len(nums) - 1\n",
    "    \n",
    "        while left < right:\n",
    "            total = nums[i] + nums[j]+nums[left] + nums[right]\n",
    "            \n",
    "            if total == target:\n",
    "                quadruplets.append([nums[i],nums[j] ,nums[left], nums[right]])\n",
    "                while left < right and nums[left] == nums[left + 1]:\n",
    "                    left += 1  # Skip duplicates\n",
    "                while left < right and nums[right] == nums[right - 1]:\n",
    "                    right -= 1  # Skip duplicates\n",
    "                left += 1\n",
    "                right -= 1\n",
    "            elif total < target:\n",
    "                left += 1\n",
    "            else:\n",
    "                right -= 1\n",
    "\n",
    "print(quadruplets)  \n"
   ]
  },
  {
   "cell_type": "code",
   "execution_count": null,
   "id": "afef7a2b",
   "metadata": {},
   "outputs": [],
   "source": []
  },
  {
   "cell_type": "code",
   "execution_count": null,
   "id": "06e1ed38",
   "metadata": {},
   "outputs": [],
   "source": []
  }
 ],
 "metadata": {
  "kernelspec": {
   "display_name": "Python 3 (ipykernel)",
   "language": "python",
   "name": "python3"
  },
  "language_info": {
   "codemirror_mode": {
    "name": "ipython",
    "version": 3
   },
   "file_extension": ".py",
   "mimetype": "text/x-python",
   "name": "python",
   "nbconvert_exporter": "python",
   "pygments_lexer": "ipython3",
   "version": "3.9.13"
  }
 },
 "nbformat": 4,
 "nbformat_minor": 5
}

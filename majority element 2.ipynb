{
 "cells": [
  {
   "cell_type": "code",
   "execution_count": 2,
   "id": "c40903c9",
   "metadata": {},
   "outputs": [
    {
     "name": "stdout",
     "output_type": "stream",
     "text": [
      "majority elements: [4]\n"
     ]
    }
   ],
   "source": [
    "arr=[3,3,2,2,2,3,4,4,4,4]\n",
    "\n",
    "candidate1,candidate2=None,None\n",
    "\n",
    "count1,count2=0,0\n",
    "\n",
    "#finding potential candidates\n",
    "\n",
    "for num in arr:\n",
    "    if candidate1==num:\n",
    "        count1+=1\n",
    "    elif candidate2==num:\n",
    "        count2+=1\n",
    "    elif count1==0:\n",
    "        candidate1=num\n",
    "        count1=1\n",
    "    elif count2==0:\n",
    "        candidate2=num\n",
    "        count2=1\n",
    "    else:\n",
    "        count1-=1\n",
    "        count2-=1\n",
    "    \n",
    "#counting occuerences of potential candidates\n",
    "\n",
    "count1=arr.count(candidate1)\n",
    "count2=arr.count(candidate2)\n",
    "\n",
    "result=[]\n",
    "\n",
    "if count1>len(arr)//3:\n",
    "    result.append(candidate1)\n",
    "\n",
    "if count2>len(arr)//3:\n",
    "    result.append(candiadte2)\n",
    "    \n",
    "if result:\n",
    "    print(\"majority elements:\",result)\n",
    "else:\n",
    "    print(\"element is not found\")\n"
   ]
  },
  {
   "cell_type": "code",
   "execution_count": null,
   "id": "8f1cefaa",
   "metadata": {},
   "outputs": [],
   "source": []
  }
 ],
 "metadata": {
  "kernelspec": {
   "display_name": "Python 3 (ipykernel)",
   "language": "python",
   "name": "python3"
  },
  "language_info": {
   "codemirror_mode": {
    "name": "ipython",
    "version": 3
   },
   "file_extension": ".py",
   "mimetype": "text/x-python",
   "name": "python",
   "nbconvert_exporter": "python",
   "pygments_lexer": "ipython3",
   "version": "3.9.13"
  }
 },
 "nbformat": 4,
 "nbformat_minor": 5
}

{
 "cells": [
  {
   "cell_type": "code",
   "execution_count": 2,
   "id": "2b7c9921",
   "metadata": {},
   "outputs": [
    {
     "name": "stdout",
     "output_type": "stream",
     "text": [
      "element is found at index 2\n"
     ]
    }
   ],
   "source": [
    "## linear search\n",
    "\n",
    "arr=[1,2,3,5,9,10]\n",
    "\n",
    "target=3\n",
    "index=-1 # indicating element is not found\n",
    "\n",
    "for i in range(len(arr)):\n",
    "    if arr[i]==target:\n",
    "        index=i\n",
    "        break\n",
    "        \n",
    "if index!=-1:\n",
    "    print(f\"element is found at index {index}\")\n",
    "else:\n",
    "    print(\"element is not found in array\")\n",
    "\n",
    "    "
   ]
  },
  {
   "cell_type": "code",
   "execution_count": null,
   "id": "596c3dff",
   "metadata": {},
   "outputs": [],
   "source": []
  }
 ],
 "metadata": {
  "kernelspec": {
   "display_name": "Python 3 (ipykernel)",
   "language": "python",
   "name": "python3"
  },
  "language_info": {
   "codemirror_mode": {
    "name": "ipython",
    "version": 3
   },
   "file_extension": ".py",
   "mimetype": "text/x-python",
   "name": "python",
   "nbconvert_exporter": "python",
   "pygments_lexer": "ipython3",
   "version": "3.9.13"
  }
 },
 "nbformat": 4,
 "nbformat_minor": 5
}

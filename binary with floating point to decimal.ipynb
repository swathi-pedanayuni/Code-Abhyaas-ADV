{
 "cells": [
  {
   "cell_type": "code",
   "execution_count": 1,
   "id": "6f8d8159",
   "metadata": {},
   "outputs": [
    {
     "name": "stdout",
     "output_type": "stream",
     "text": [
      "binary: 101010.10\n",
      "decimal: 42.0\n"
     ]
    }
   ],
   "source": [
    "## covert binary with floating  point to  decimal.\n",
    "\n",
    "binary='101010.10'\n",
    "\n",
    "\n",
    "integer_part,fractional_part=binary.split('.')\n",
    "\n",
    "decimal_integer_part=0\n",
    "\n",
    "for i in range(len(integer_part)):\n",
    "    digit=int(integer_part[len(integer_part)-1-i])\n",
    "    decimal_integer_part+=digit*(2**i)\n",
    "    \n",
    "decimal_fractional_part=0\n",
    "\n",
    "for i in range(len(fractional_part)):\n",
    "    digit=int(fractional_part[i])\n",
    "    decimal_fractional_part=digit*(2**-(i+1))\n",
    "\n",
    "decimal_number=decimal_integer_part+decimal_fractional_part\n",
    "\n",
    "print(\"binary:\",binary)\n",
    "print(\"decimal:\",decimal_number)"
   ]
  },
  {
   "cell_type": "code",
   "execution_count": null,
   "id": "1560a5ec",
   "metadata": {},
   "outputs": [],
   "source": []
  }
 ],
 "metadata": {
  "kernelspec": {
   "display_name": "Python 3 (ipykernel)",
   "language": "python",
   "name": "python3"
  },
  "language_info": {
   "codemirror_mode": {
    "name": "ipython",
    "version": 3
   },
   "file_extension": ".py",
   "mimetype": "text/x-python",
   "name": "python",
   "nbconvert_exporter": "python",
   "pygments_lexer": "ipython3",
   "version": "3.9.13"
  }
 },
 "nbformat": 4,
 "nbformat_minor": 5
}

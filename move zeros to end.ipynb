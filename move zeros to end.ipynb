{
 "cells": [
  {
   "cell_type": "code",
   "execution_count": 1,
   "id": "963852b4",
   "metadata": {},
   "outputs": [
    {
     "name": "stdout",
     "output_type": "stream",
     "text": [
      "array with zero's moved to end: [1, 2, 3, 4, 5, 6, 8, 0, 0, 0]\n"
     ]
    }
   ],
   "source": [
    "## move zero's to end of the array\n",
    "\n",
    "arr=[1,2,3,0,4,0,5,6,0,8]\n",
    "\n",
    "non_zero_count=0\n",
    "\n",
    "#count non zero elements and move elements to front\n",
    "for i in range(len(arr)):\n",
    "    if arr[i]!=0:\n",
    "        arr[non_zero_count]=arr[i]\n",
    "        non_zero_count+=1\n",
    "\n",
    "# fill ramaining positions with zero\n",
    "while non_zero_count<len(arr):\n",
    "    arr[non_zero_count]=0\n",
    "    non_zero_count+=1\n",
    "    \n",
    "print(\"array with zero's moved to end:\",arr)"
   ]
  },
  {
   "cell_type": "code",
   "execution_count": null,
   "id": "7969118e",
   "metadata": {},
   "outputs": [],
   "source": []
  }
 ],
 "metadata": {
  "kernelspec": {
   "display_name": "Python 3 (ipykernel)",
   "language": "python",
   "name": "python3"
  },
  "language_info": {
   "codemirror_mode": {
    "name": "ipython",
    "version": 3
   },
   "file_extension": ".py",
   "mimetype": "text/x-python",
   "name": "python",
   "nbconvert_exporter": "python",
   "pygments_lexer": "ipython3",
   "version": "3.9.13"
  }
 },
 "nbformat": 4,
 "nbformat_minor": 5
}

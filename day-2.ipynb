{
 "cells": [
  {
   "cell_type": "code",
   "execution_count": 1,
   "id": "75c0ad40",
   "metadata": {},
   "outputs": [
    {
     "name": "stdout",
     "output_type": "stream",
     "text": [
      "second_maximum is: 7\n",
      "second_minimum is: 4\n"
     ]
    }
   ],
   "source": [
    "#finding second_max and second_min of the array\n",
    "arr=[4,5,9,6,7,2]\n",
    "max=-5\n",
    "secondmax=-5\n",
    "min=10\n",
    "secondmin=10\n",
    "\n",
    "for i in range(len(arr)):\n",
    "    if arr[i]>max:\n",
    "        secondmax=max\n",
    "        max=arr[i]\n",
    "    if arr[i]>secondmax and  arr[i]!=max:\n",
    "        secondmax=arr[i]\n",
    "    if arr[i]<min:\n",
    "        secondmin=min\n",
    "        min=arr[i]\n",
    "    if arr[i]<secondmin and arr[i]!=min:\n",
    "        secondmin=arr[i]\n",
    "print(\"second_maximum is:\",secondmax)\n",
    "print(\"second_minimum is:\",secondmin)"
   ]
  },
  {
   "cell_type": "code",
   "execution_count": 2,
   "id": "bda51694",
   "metadata": {},
   "outputs": [
    {
     "name": "stdout",
     "output_type": "stream",
     "text": [
      "[1, 2, 4, 6]\n"
     ]
    }
   ],
   "source": [
    "#removing duplicates from the array\n",
    "arr=[1,1,1,2,2,4,6]\n",
    "\n",
    "n=len(arr)\n",
    "i=0\n",
    "j=i+1\n",
    "\n",
    "while j<n:\n",
    "    if arr[i]==arr[j]:\n",
    "        j=j+1\n",
    "    else:\n",
    "        i=i+1\n",
    "        arr[i]=arr[j]\n",
    "        j=j+1\n",
    "\n",
    "unique_array=arr[0:i+1]\n",
    "print(unique_array)\n",
    "    "
   ]
  },
  {
   "cell_type": "code",
   "execution_count": 3,
   "id": "24f312d8",
   "metadata": {},
   "outputs": [
    {
     "name": "stdout",
     "output_type": "stream",
     "text": [
      "[6, 4, 3, 8, 5, 2]\n"
     ]
    }
   ],
   "source": [
    "#left rotate the array\n",
    "arr=[2,6,4,3,8,5]\n",
    "n=len(arr)\n",
    "\n",
    "temp=arr[0]\n",
    "\n",
    "for i in range (n-1):\n",
    "    arr[i]=arr[i+1]\n",
    "arr[n-1]=temp\n",
    "print(arr)"
   ]
  },
  {
   "cell_type": "code",
   "execution_count": null,
   "id": "003b3918",
   "metadata": {},
   "outputs": [],
   "source": []
  }
 ],
 "metadata": {
  "kernelspec": {
   "display_name": "Python 3 (ipykernel)",
   "language": "python",
   "name": "python3"
  },
  "language_info": {
   "codemirror_mode": {
    "name": "ipython",
    "version": 3
   },
   "file_extension": ".py",
   "mimetype": "text/x-python",
   "name": "python",
   "nbconvert_exporter": "python",
   "pygments_lexer": "ipython3",
   "version": "3.9.13"
  }
 },
 "nbformat": 4,
 "nbformat_minor": 5
}

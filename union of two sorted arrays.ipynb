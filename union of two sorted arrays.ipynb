{
 "cells": [
  {
   "cell_type": "code",
   "execution_count": 1,
   "id": "50999f82",
   "metadata": {},
   "outputs": [
    {
     "name": "stdout",
     "output_type": "stream",
     "text": [
      "union of two sorted arrays: [1, 2, 3, 4, 5, 6, 7]\n"
     ]
    }
   ],
   "source": [
    "## union of two sorted arrays\n",
    "\n",
    "arr1=[1,3,4,5,7]\n",
    "arr2=[2,3,5,6]\n",
    "\n",
    "union=[]\n",
    "\n",
    "i,j=0,0\n",
    "n1,n2=len(arr1),len(arr2)\n",
    "\n",
    "while i<n1 and j<n2:\n",
    "    if arr1[i] <arr2[j]:\n",
    "        union.append(arr1[i])\n",
    "        i+=1\n",
    "    elif arr2[j] < arr1[i]:\n",
    "        union.append(arr2[j])\n",
    "        j+=1\n",
    "    else:\n",
    "        union.append(arr1[i])\n",
    "        i+=1\n",
    "        j+=1\n",
    "\n",
    "# add remaning elements from both arrays\n",
    "\n",
    "while i<n1:\n",
    "    union.append(arr1[i])\n",
    "    i+=1\n",
    "while j<n2:\n",
    "    union.append(arr2[j])\n",
    "    j+=1\n",
    "\n",
    "print(\"union of two sorted arrays:\",union)"
   ]
  },
  {
   "cell_type": "code",
   "execution_count": null,
   "id": "daca289b",
   "metadata": {},
   "outputs": [],
   "source": []
  }
 ],
 "metadata": {
  "kernelspec": {
   "display_name": "Python 3 (ipykernel)",
   "language": "python",
   "name": "python3"
  },
  "language_info": {
   "codemirror_mode": {
    "name": "ipython",
    "version": 3
   },
   "file_extension": ".py",
   "mimetype": "text/x-python",
   "name": "python",
   "nbconvert_exporter": "python",
   "pygments_lexer": "ipython3",
   "version": "3.9.13"
  }
 },
 "nbformat": 4,
 "nbformat_minor": 5
}
